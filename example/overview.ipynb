{
 "cells": [
  {
   "cell_type": "code",
   "execution_count": 5,
   "id": "angry-protein",
   "metadata": {},
   "outputs": [],
   "source": [
    "import h5py\n",
    "import os\n",
    "import json\n",
    "\n",
    "from pprint import pprint\n",
    "\n",
    "image_id = 'COCO_train2014_000000357413'\n",
    "region_id = '515385'\n",
    "region_anno_dir = './'\n",
    "obj_ft_dir = './'"
   ]
  },
  {
   "cell_type": "code",
   "execution_count": 6,
   "id": "removable-medline",
   "metadata": {},
   "outputs": [],
   "source": [
    "PIXEL_REDUCE = 1"
   ]
  },
  {
   "cell_type": "code",
   "execution_count": 7,
   "id": "stretch-baking",
   "metadata": {},
   "outputs": [],
   "source": [
    "idx = 0\n",
    "\n",
    "name = '%s_%s' % (image_id, region_id)\n",
    "anno = json.load(open(os.path.join(region_anno_dir, '%s.json' % image_id)))"
   ]
  },
  {
   "cell_type": "code",
   "execution_count": 8,
   "id": "round-conducting",
   "metadata": {},
   "outputs": [
    {
     "data": {
      "text/plain": [
       "dict_keys(['515385', '407180', '464780', '476439', '226568'])"
      ]
     },
     "execution_count": 8,
     "metadata": {},
     "output_type": "execute_result"
    }
   ],
   "source": [
    "anno.keys()"
   ]
  },
  {
   "cell_type": "code",
   "execution_count": 9,
   "id": "eleven-think",
   "metadata": {},
   "outputs": [
    {
     "data": {
      "text/plain": [
       "{'objects': [{'object_id': 1639311,\n",
       "   'name': 'boy',\n",
       "   'attributes': ['small'],\n",
       "   'x': 245,\n",
       "   'y': 182,\n",
       "   'w': 115,\n",
       "   'h': 173},\n",
       "  {'object_id': 1639310,\n",
       "   'name': 'grass',\n",
       "   'attributes': [],\n",
       "   'x': 91,\n",
       "   'y': 158,\n",
       "   'w': 545,\n",
       "   'h': 242},\n",
       "  {'object_id': 1639312,\n",
       "   'name': 'frisbee',\n",
       "   'attributes': [],\n",
       "   'x': 286,\n",
       "   'y': 236,\n",
       "   'w': 123,\n",
       "   'h': 75}],\n",
       " 'relationships': [{'relationship_id': 867254,\n",
       "   'name': 'on',\n",
       "   'subject_id': 1639311,\n",
       "   'object_id': 1639310},\n",
       "  {'relationship_id': 867255,\n",
       "   'name': 'on',\n",
       "   'subject_id': 1639311,\n",
       "   'object_id': 1639312}],\n",
       " 'phrase': 'a small boy on some grass and a frisbee'}"
      ]
     },
     "execution_count": 9,
     "metadata": {},
     "output_type": "execute_result"
    }
   ],
   "source": [
    "anno['515385'] # region_id"
   ]
  },
  {
   "cell_type": "code",
   "execution_count": 10,
   "id": "aggressive-thanks",
   "metadata": {},
   "outputs": [],
   "source": [
    "region_graph = anno[region_id]\n",
    "region_caption = anno[region_id]['phrase']"
   ]
  },
  {
   "cell_type": "code",
   "execution_count": 11,
   "id": "hydraulic-welcome",
   "metadata": {},
   "outputs": [
    {
     "name": "stdout",
     "output_type": "stream",
     "text": [
      "key=\"train2014_COCO_train2014_000000357413.jpg\"\n",
      "<KeysViewHDF5 ['boxes', 'image_h', 'image_w']>\n"
     ]
    }
   ],
   "source": [
    "\n",
    "f = h5py.File(os.path.join(obj_ft_dir, 'train2014_%s.jpg.hdf5' % image_id), 'r')\n",
    "key = 'train2014_%s.jpg' % image_id.replace('/', '_')\n",
    "keys = f.keys()\n",
    "print(f'key=\"{key}\"')\n",
    "obj_fts = f[key][...]\n",
    "\n",
    "print(f[key].attrs.keys())\n",
    "obj_bboxes = f[key].attrs['boxes']\n",
    "obj_box_to_ft = {tuple(box): ft for box, ft in zip(obj_bboxes, obj_fts)}\n"
   ]
  },
  {
   "cell_type": "code",
   "execution_count": 12,
   "id": "artistic-acting",
   "metadata": {},
   "outputs": [
    {
     "data": {
      "text/plain": [
       "['train2014_COCO_train2014_000000357413.jpg']"
      ]
     },
     "execution_count": 12,
     "metadata": {},
     "output_type": "execute_result"
    }
   ],
   "source": [
    "list(keys)"
   ]
  },
  {
   "cell_type": "code",
   "execution_count": 13,
   "id": "impressed-right",
   "metadata": {},
   "outputs": [],
   "source": [
    "mm = f[key]"
   ]
  },
  {
   "cell_type": "code",
   "execution_count": 14,
   "id": "fluid-optimization",
   "metadata": {},
   "outputs": [
    {
     "data": {
      "text/plain": [
       "(8, 2048)"
      ]
     },
     "execution_count": 14,
     "metadata": {},
     "output_type": "execute_result"
    }
   ],
   "source": [
    "mm[:].shape"
   ]
  },
  {
   "cell_type": "code",
   "execution_count": 15,
   "id": "sufficient-dividend",
   "metadata": {},
   "outputs": [
    {
     "name": "stdout",
     "output_type": "stream",
     "text": [
      "[(0, 0, 639, 426),\n",
      " (286, 236, 408, 310),\n",
      " (255, 169, 351, 401),\n",
      " (91, 158, 635, 399),\n",
      " (339, 244, 404, 295),\n",
      " (245, 182, 404, 354),\n",
      " (245, 182, 408, 354),\n",
      " (245, 182, 359, 354)]\n"
     ]
    }
   ],
   "source": [
    "# 每一个 key 对应一个 box，对应的 value 是这一个 box 区域图像的 feature\n",
    "pprint(list(obj_box_to_ft.keys()))"
   ]
  },
  {
   "cell_type": "code",
   "execution_count": 16,
   "id": "unusual-appearance",
   "metadata": {},
   "outputs": [
    {
     "data": {
      "text/plain": [
       "(2048,)"
      ]
     },
     "execution_count": 16,
     "metadata": {},
     "output_type": "execute_result"
    }
   ],
   "source": [
    "# 每一个 feature 是 2048 维的\n",
    "obj_box_to_ft[(0, 0, 639, 426)].shape"
   ]
  },
  {
   "cell_type": "code",
   "execution_count": 17,
   "id": "narrow-geology",
   "metadata": {},
   "outputs": [],
   "source": [
    "PIXEL_REDUCE = 1\n",
    "\n",
    "\n",
    "attn_ft, node_types, attr_order_idxs = [], [], []\n",
    "obj_id_to_box = {}\n",
    "for x in region_graph['objects']:\n",
    "    box = (x['x'], x['y'], x['x'] + x['w'] - PIXEL_REDUCE, x['y'] + x['h'] - PIXEL_REDUCE)\n",
    "    obj_id_to_box[x['object_id']] = box\n",
    "    attn_ft.append(obj_box_to_ft[box])\n",
    "    attr_order_idxs.append(0)\n",
    "    node_types.append(0)\n",
    "    for ia, attr in enumerate(x['attributes']):\n",
    "        attn_ft.append(obj_box_to_ft[box])\n",
    "        attr_order_idxs.append(ia + 1)\n",
    "        node_types.append(1)"
   ]
  },
  {
   "cell_type": "code",
   "execution_count": 19,
   "id": "suspected-germany",
   "metadata": {},
   "outputs": [],
   "source": [
    "k = {'dim_hidden': 512,\n",
    " 'dim_input': 2048,\n",
    " 'dropout': 0.0,\n",
    " 'embed_first': True,\n",
    " 'freeze': False,\n",
    " 'lr_mult': 1.0,\n",
    " 'max_attn_len': 10,\n",
    " 'num_hidden_layers': 2,\n",
    " 'num_node_types': 3,\n",
    " 'num_rels': 6,\n",
    " 'opt_alg': 'Adam',\n",
    " 'self_loop': True,\n",
    " 'weight_decay': 0}\n",
    "m={'attn_input_size': 512,\n",
    " 'attn_size': 512,\n",
    " 'attn_type': 'mlp',\n",
    " 'beam_width': 1,\n",
    " 'dim_word': 512,\n",
    " 'dropout': 0.5,\n",
    " 'fix_word_embed': False,\n",
    " 'freeze': False,\n",
    " 'greedy_or_beam': False,\n",
    " 'hidden2word': False,\n",
    " 'hidden_size': 512,\n",
    " 'lr_mult': 1.0,\n",
    " 'max_words_in_sent': 25,\n",
    " 'memory_same_key_value': True,\n",
    " 'num_layers': 1,\n",
    " 'num_words': 10942,\n",
    " 'opt_alg': 'Adam',\n",
    " 'rnn_type': 'lstm',\n",
    " 'schedule_sampling': False,\n",
    " 'sent_pool_size': 1,\n",
    " 'ss_increase_epoch': 5,\n",
    " 'ss_increase_rate': 0.05,\n",
    " 'ss_max_rate': 0.25,\n",
    " 'ss_rate': 0.0,\n",
    " 'tie_embed': True,\n",
    " 'weight_decay': 0}\n",
    "ll = {'dim_embed': 512,\n",
    " 'dim_fts': [2048, 512],\n",
    " 'dropout': 0,\n",
    " 'freeze': False,\n",
    " 'is_embed': True,\n",
    " 'lr_mult': 1.0,\n",
    " 'nonlinear': False,\n",
    " 'norm': False,\n",
    " 'opt_alg': 'Adam',\n",
    " 'weight_decay': 0}"
   ]
  },
  {
   "cell_type": "code",
   "execution_count": 20,
   "id": "commercial-latest",
   "metadata": {},
   "outputs": [
    {
     "name": "stdout",
     "output_type": "stream",
     "text": [
      "self.dim_hidden = 512\n",
      "self.dim_input = 2048\n",
      "self.dropout = 0.0\n",
      "self.embed_first = True\n",
      "self.freeze = False\n",
      "self.lr_mult = 1.0\n",
      "self.max_attn_len = 10\n",
      "self.num_hidden_layers = 2\n",
      "self.num_node_types = 3\n",
      "self.num_rels = 6\n",
      "self.opt_alg = Adam\n",
      "self.self_loop = True\n",
      "self.weight_decay = 0\n",
      "self.attn_input_size = 512\n",
      "self.attn_size = 512\n",
      "self.attn_type = mlp\n",
      "self.beam_width = 1\n",
      "self.dim_word = 512\n",
      "self.dropout = 0.5\n",
      "self.fix_word_embed = False\n",
      "self.freeze = False\n",
      "self.greedy_or_beam = False\n",
      "self.hidden2word = False\n",
      "self.hidden_size = 512\n",
      "self.lr_mult = 1.0\n",
      "self.max_words_in_sent = 25\n",
      "self.memory_same_key_value = True\n",
      "self.num_layers = 1\n",
      "self.num_words = 10942\n",
      "self.opt_alg = Adam\n",
      "self.rnn_type = lstm\n",
      "self.schedule_sampling = False\n",
      "self.sent_pool_size = 1\n",
      "self.ss_increase_epoch = 5\n",
      "self.ss_increase_rate = 0.05\n",
      "self.ss_max_rate = 0.25\n",
      "self.ss_rate = 0.0\n",
      "self.tie_embed = True\n",
      "self.weight_decay = 0\n",
      "self.dim_embed = 512\n",
      "self.dim_fts = [2048, 512]\n",
      "self.dropout = 0\n",
      "self.freeze = False\n",
      "self.is_embed = True\n",
      "self.lr_mult = 1.0\n",
      "self.nonlinear = False\n",
      "self.norm = False\n",
      "self.opt_alg = Adam\n",
      "self.weight_decay = 0\n"
     ]
    }
   ],
   "source": [
    "from itertools import chain\n",
    "for k,v in chain(k.items(),m.items(),ll.items()):\n",
    "    print(f\"self.{k} = {v}\")\n",
    "    "
   ]
  },
  {
   "cell_type": "code",
   "execution_count": 21,
   "id": "uniform-details",
   "metadata": {},
   "outputs": [
    {
     "ename": "NameError",
     "evalue": "name 'self' is not defined",
     "output_type": "error",
     "traceback": [
      "\u001b[0;31m---------------------------------------------------------------------------\u001b[0m",
      "\u001b[0;31mNameError\u001b[0m                                 Traceback (most recent call last)",
      "\u001b[0;32m<ipython-input-21-5686993b0d8e>\u001b[0m in \u001b[0;36m<module>\u001b[0;34m\u001b[0m\n\u001b[1;32m      9\u001b[0m \u001b[0;34m\u001b[0m\u001b[0m\n\u001b[1;32m     10\u001b[0m \u001b[0mnum_nodes\u001b[0m \u001b[0;34m=\u001b[0m \u001b[0mlen\u001b[0m\u001b[0;34m(\u001b[0m\u001b[0mnode_types\u001b[0m\u001b[0;34m)\u001b[0m\u001b[0;34m\u001b[0m\u001b[0;34m\u001b[0m\u001b[0m\n\u001b[0;32m---> 11\u001b[0;31m attn_ft, attn_mask = self.pad_or_trim_feature(\n\u001b[0m\u001b[1;32m     12\u001b[0m     \u001b[0mnp\u001b[0m\u001b[0;34m.\u001b[0m\u001b[0marray\u001b[0m\u001b[0;34m(\u001b[0m\u001b[0mattn_ft\u001b[0m\u001b[0;34m[\u001b[0m\u001b[0;34m:\u001b[0m\u001b[0mself\u001b[0m\u001b[0;34m.\u001b[0m\u001b[0mmax_attn_len\u001b[0m\u001b[0;34m]\u001b[0m\u001b[0;34m,\u001b[0m \u001b[0mnp\u001b[0m\u001b[0;34m.\u001b[0m\u001b[0mfloat32\u001b[0m\u001b[0;34m)\u001b[0m\u001b[0;34m,\u001b[0m\u001b[0;34m\u001b[0m\u001b[0;34m\u001b[0m\u001b[0m\n\u001b[1;32m     13\u001b[0m     self.max_attn_len)\n",
      "\u001b[0;31mNameError\u001b[0m: name 'self' is not defined"
     ]
    }
   ],
   "source": [
    "\n",
    "for x in region_graph['relationships']:\n",
    "    obj_box = obj_id_to_box[x['object_id']]\n",
    "    subj_box = obj_id_to_box[x['subject_id']]\n",
    "    box = (min(obj_box[0], subj_box[0]), min(obj_box[1], subj_box[1]),\n",
    "           max(obj_box[2], subj_box[2]), max(obj_box[3], subj_box[3]))\n",
    "    attn_ft.append(obj_box_to_ft[box])\n",
    "    node_types.append(2)\n",
    "    attr_order_idxs.append(0)\n",
    "\n",
    "num_nodes = len(node_types)\n",
    "attn_ft, attn_mask = self.pad_or_trim_feature(\n",
    "    np.array(attn_ft[:self.max_attn_len], np.float32),\n",
    "    self.max_attn_len)\n",
    "node_types = node_types[:self.max_attn_len] + [0] * max(0, self.max_attn_len - num_nodes)\n",
    "node_types = np.array(node_types, np.int32)\n",
    "attr_order_idxs = attr_order_idxs[:self.max_attn_len] + [0] * max(0, self.max_attn_len - num_nodes)\n",
    "attr_order_idxs = np.array(attr_order_idxs, np.int32)\n",
    "\n",
    "out = {\n",
    "    'names': name,\n",
    "    'mp_fts': self.mp_fts[self.img_id_to_ftidx_name[image_id][0]],\n",
    "    'attn_fts': attn_ft,\n",
    "    'attn_masks': attn_mask,\n",
    "    'node_types': node_types,\n",
    "    'attr_order_idxs': attr_order_idxs,\n",
    "}\n",
    "if self.is_train or self.return_label:\n",
    "    sent = region_caption\n",
    "    caption_ids, caption_masks = self.pad_sents(self.sent2int(sent))\n",
    "    out.update({\n",
    "        'caption_ids': caption_ids,\n",
    "        'caption_masks': caption_masks,\n",
    "        'ref_sents': [sent],\n",
    "    })"
   ]
  },
  {
   "cell_type": "code",
   "execution_count": 18,
   "id": "adequate-horror",
   "metadata": {},
   "outputs": [
    {
     "data": {
      "text/plain": [
       "{'515385': {'objects': [{'object_id': 1639311,\n",
       "    'name': 'boy',\n",
       "    'attributes': ['small'],\n",
       "    'x': 245,\n",
       "    'y': 182,\n",
       "    'w': 115,\n",
       "    'h': 173},\n",
       "   {'object_id': 1639310,\n",
       "    'name': 'grass',\n",
       "    'attributes': [],\n",
       "    'x': 91,\n",
       "    'y': 158,\n",
       "    'w': 545,\n",
       "    'h': 242},\n",
       "   {'object_id': 1639312,\n",
       "    'name': 'frisbee',\n",
       "    'attributes': [],\n",
       "    'x': 286,\n",
       "    'y': 236,\n",
       "    'w': 123,\n",
       "    'h': 75}],\n",
       "  'relationships': [{'relationship_id': 867254,\n",
       "    'name': 'on',\n",
       "    'subject_id': 1639311,\n",
       "    'object_id': 1639310},\n",
       "   {'relationship_id': 867255,\n",
       "    'name': 'on',\n",
       "    'subject_id': 1639311,\n",
       "    'object_id': 1639312}],\n",
       "  'phrase': 'a small boy on some grass and a frisbee'},\n",
       " '407180': {'objects': [{'object_id': 1295081,\n",
       "    'name': 'boy',\n",
       "    'attributes': ['young'],\n",
       "    'x': 245,\n",
       "    'y': 182,\n",
       "    'w': 115,\n",
       "    'h': 173},\n",
       "   {'object_id': 1295082,\n",
       "    'name': 'play',\n",
       "    'attributes': [],\n",
       "    'x': 0,\n",
       "    'y': 0,\n",
       "    'w': 640,\n",
       "    'h': 427},\n",
       "   {'object_id': 1295080,\n",
       "    'name': 'disc',\n",
       "    'attributes': ['fly'],\n",
       "    'x': 339,\n",
       "    'y': 244,\n",
       "    'w': 66,\n",
       "    'h': 52}],\n",
       "  'relationships': [{'relationship_id': 685001,\n",
       "    'name': 'with',\n",
       "    'subject_id': 1295081,\n",
       "    'object_id': 1295080},\n",
       "   {'relationship_id': 685002,\n",
       "    'name': 'engage in',\n",
       "    'subject_id': 1295081,\n",
       "    'object_id': 1295082}],\n",
       "  'phrase': 'a young boy engaged in play with a flying disc'},\n",
       " '464780': {'objects': [{'object_id': 1478185,\n",
       "    'name': 'boy',\n",
       "    'attributes': ['young'],\n",
       "    'x': 245,\n",
       "    'y': 182,\n",
       "    'w': 115,\n",
       "    'h': 173},\n",
       "   {'object_id': 1478186,\n",
       "    'name': 'frisbee',\n",
       "    'attributes': ['gray'],\n",
       "    'x': 286,\n",
       "    'y': 236,\n",
       "    'w': 123,\n",
       "    'h': 75},\n",
       "   {'object_id': 1478184,\n",
       "    'name': 'yard',\n",
       "    'attributes': ['green'],\n",
       "    'x': 0,\n",
       "    'y': 0,\n",
       "    'w': 640,\n",
       "    'h': 427}],\n",
       "  'relationships': [],\n",
       "  'phrase': 'a young boy tossing a gray frisbee on top of a green yard'},\n",
       " '476439': {'objects': [{'object_id': 1515160,\n",
       "    'name': 'child',\n",
       "    'attributes': ['young', 'about'],\n",
       "    'x': 255,\n",
       "    'y': 169,\n",
       "    'w': 97,\n",
       "    'h': 233},\n",
       "   {'object_id': 1515161,\n",
       "    'name': 'frisbee',\n",
       "    'attributes': [],\n",
       "    'x': 286,\n",
       "    'y': 236,\n",
       "    'w': 123,\n",
       "    'h': 75}],\n",
       "  'relationships': [],\n",
       "  'phrase': 'a young child is about to catch a frisbee'},\n",
       " '226568': {'objects': [{'object_id': 720507,\n",
       "    'name': 'boy',\n",
       "    'attributes': ['reach'],\n",
       "    'x': 245,\n",
       "    'y': 182,\n",
       "    'w': 115,\n",
       "    'h': 173},\n",
       "   {'object_id': 720505,\n",
       "    'name': 'frisbee',\n",
       "    'attributes': [],\n",
       "    'x': 286,\n",
       "    'y': 236,\n",
       "    'w': 123,\n",
       "    'h': 75},\n",
       "   {'object_id': 720506,\n",
       "    'name': 'yard',\n",
       "    'attributes': [],\n",
       "    'x': 0,\n",
       "    'y': 0,\n",
       "    'w': 640,\n",
       "    'h': 427}],\n",
       "  'relationships': [{'relationship_id': 381102,\n",
       "    'name': 'in',\n",
       "    'subject_id': 720505,\n",
       "    'object_id': 720506}],\n",
       "  'phrase': 'a boy reaches out to catch a frisbee in the yard'}}"
      ]
     },
     "execution_count": 18,
     "metadata": {},
     "output_type": "execute_result"
    }
   ],
   "source": [
    "anno"
   ]
  }
 ],
 "metadata": {
  "kernelspec": {
   "display_name": "Python 3",
   "language": "python",
   "name": "python3"
  },
  "language_info": {
   "codemirror_mode": {
    "name": "ipython",
    "version": 3
   },
   "file_extension": ".py",
   "mimetype": "text/x-python",
   "name": "python",
   "nbconvert_exporter": "python",
   "pygments_lexer": "ipython3",
   "version": "3.7.7"
  }
 },
 "nbformat": 4,
 "nbformat_minor": 5
}
